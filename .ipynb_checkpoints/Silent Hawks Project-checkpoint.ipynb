{
 "cells": [
  {
   "cell_type": "markdown",
   "metadata": {
    "cell_id": "57706cdea446457580af89e207bdd6ea",
    "deepnote_cell_type": "text-cell-p",
    "formattedRanges": [
     {
      "fromCodePoint": 0,
      "marks": {
       "bold": true
      },
      "toCodePoint": 21,
      "type": "marks"
     }
    ]
   },
   "source": [
    "# Project introduction\n",
    "\n",
    "Our project is focusing on analyzing the crime in Chicago. The City of Chicago maintains a database of the crimes committed in Chicago since 2001. This database has one table which is crimes committed and has many different properties that we can use in our analysis. Examples include case number, date, block, IUCR code, primary type, description, location description, whether an arrest was made, etc. \n",
    "\n",
    "The data source is a CSV file and since this data source is around 1.7 GB so therefore we will not include it in the github repo due to file size constraints. The link will be provided in the readme. \n",
    "\n",
    "LINK:- https://github.com/uic-ds-spring-2023/class-project----cs-418-spring-2023-silent-hawks/blob/4b8e3a2ed706a9d78ae76b3050ed9bccddabf861/Silent%20Hawks%20Project.ipynb"
   ]
  },
  {
   "cell_type": "markdown",
   "metadata": {
    "cell_id": "a7de5b58cd2144a3bebc7534e966c0c9",
    "deepnote_cell_type": "text-cell-p",
    "formattedRanges": []
   },
   "source": [
    "# Questions to answer\n",
    "\n",
    "What are the types of crimes being committed?\n",
    "What crimes are the most common?\n",
    "Where are the crimes taking place?\n",
    "What areas have the most crimes being committed?\n",
    "What is the distribution of the top crimes over the years?\n",
    "Can we predict whether an arrest will be made based on location data?"
   ]
  },
  {
   "cell_type": "markdown",
   "metadata": {
    "cell_id": "8565c429d750463b89effc288c8b09d7",
    "deepnote_cell_type": "text-cell-p",
    "formattedRanges": [
     {
      "fromCodePoint": 0,
      "marks": {
       "bold": true
      },
      "toCodePoint": 11,
      "type": "marks"
     }
    ]
   },
   "source": [
    "# Any changes\n",
    "We added socioeconomic data also from the City of Chicago (2008-2012). This gives us access to community area names. Besides that, everything else stayed the same."
   ]
  },
  {
   "cell_type": "markdown",
   "metadata": {
    "cell_id": "31f1e910f2c546f8a21bd9c4f3ae9aba",
    "deepnote_cell_type": "text-cell-p",
    "formattedRanges": [
     {
      "fromCodePoint": 0,
      "marks": {
       "bold": true
      },
      "toCodePoint": 13,
      "type": "marks"
     }
    ]
   },
   "source": [
    "# Data cleaning"
   ]
  },
  {
   "cell_type": "code",
   "execution_count": null,
   "metadata": {},
   "outputs": [],
   "source": [
    "# This is to autoreload main.py every time when we edit our main.py file so \n",
    "# we don't have to restart the kernel every time and therefore load the entire dataset again.\n",
    "%load_ext autoreload\n",
    "%autoreload 1\n",
    "%aimport main"
   ]
  },
  {
   "cell_type": "code",
   "execution_count": null,
   "metadata": {},
   "outputs": [],
   "source": [
    "import pandas as pd\n",
    "import numpy as np\n",
    "import seaborn as sns\n",
    "%matplotlib inline\n",
    "import matplotlib.pyplot as plt"
   ]
  },
  {
   "cell_type": "code",
   "execution_count": null,
   "metadata": {},
   "outputs": [],
   "source": [
    "crimes = pd.read_csv('Crimes_-_2001_to_Present.csv')"
   ]
  },
  {
   "cell_type": "markdown",
   "metadata": {},
   "source": [
    "First we start by filtering out rows where the location is null. Since we want to analyze where crimes are taking place and what areas see the most crime.\n",
    "\n",
    "This leaves us with 7.6 million rows, which is still very close to the 7.7 million we started with so that's good. Next we'll sort the crimes based by year to get an idea of how the distribution of crime over the years looks like.\n",
    "\n",
    "Next, we'll filter out crimes that have a primary type of null as well as this makes it harder to analyze the data later. After filtering, the amount of rows that got filtered was 0 which tells us all the crimes have a primary type associated with them which is good. That's good because we know the crimes all got tagged with at least a crime type.\n",
    "\n",
    "Now we'll filter out any rows with an empty description as well. Description is a bit less important the primary type, but nonetheless we'll filter it out. Once again, no rows got filtered out. This is good as well as this filtering is suggesting that the data is already filtered/formatted somewhat.\n",
    "\n",
    "We filtered out any location description with an empty description since we will need the location description to be not null to perform some location description analysis of crimes. This dropped around 6k rows.\n",
    "\n",
    "We also will restrict the years from 2004 to 2022. The reason being data before 2004 had no location tagged, and 2023 does not have complete data yet. "
   ]
  },
  {
   "cell_type": "code",
   "execution_count": null,
   "metadata": {},
   "outputs": [],
   "source": [
    "crimes = main.CrimesAfterFiltering(crimes)\n",
    "crimes.head(5)"
   ]
  },
  {
   "cell_type": "markdown",
   "metadata": {
    "cell_id": "fcfb81995db04ea7876740be4c8e86ad",
    "deepnote_cell_type": "text-cell-p",
    "formattedRanges": [
     {
      "fromCodePoint": 0,
      "marks": {
       "bold": true
      },
      "toCodePoint": 25,
      "type": "marks"
     }
    ]
   },
   "source": [
    "# Exploratory data analysis\n",
    "\n",
    "The data is all of the crimes commited over the past 20 years which will be tested by out function. The data consists of popular crimes which have taken place what were the trends over the years."
   ]
  },
  {
   "cell_type": "markdown",
   "metadata": {
    "cell_id": "7852fd3a38b74527a57056269310ecd9",
    "deepnote_cell_type": "text-cell-p",
    "formattedRanges": [
     {
      "fromCodePoint": 0,
      "marks": {
       "bold": true
      },
      "toCodePoint": 26,
      "type": "marks"
     }
    ]
   },
   "source": [
    "\n",
    "The hypothesis we are testing is that the crime in 2022 is way less than tghe crimes in 2004. We should be able able to see the gradual decrese in the crime rate. "
   ]
  },
  {
   "cell_type": "code",
   "execution_count": null,
   "metadata": {},
   "outputs": [],
   "source": [
    "c = main.get_total_crimes(crimes)\n",
    "main.sort_crimes(c)"
   ]
  },
  {
   "cell_type": "markdown",
   "metadata": {},
   "source": [
    " Here we can see that the top 5 crimes in the past 20 years and now we will see the distribution of each crime over the years."
   ]
  },
  {
   "cell_type": "code",
   "execution_count": null,
   "metadata": {},
   "outputs": [],
   "source": [
    "main.Plot_crimes_overyears(crimes)"
   ]
  },
  {
   "cell_type": "markdown",
   "metadata": {},
   "source": [
    "From this data we can see the trends in the crimes. Assult:- we see that assult had the least change in the number. The graph is slightly increasing now. Battery:- We observe that the battery is significantly down. Criminal Damage:- The Critical damage have the same trend as battery as they are kind off related. Narcotics:- Narcotics has the biggest reduction but it did increase a bit during 2019 but it drops again. Theft:- The trnd in theft dropped in 2020 and 2021 but is again rising in 2022.\n",
    "\n",
    "\n",
    "\n",
    "The intersting thing we can tell from this data we can see that the crime rate overall has decreased from what it was in the past but there is a significant decrese after covid."
   ]
  },
  {
   "cell_type": "markdown",
   "metadata": {
    "cell_id": "2aefe73e2ddd4aa99dae97697e0a458c",
    "deepnote_cell_type": "text-cell-p",
    "formattedRanges": [
     {
      "fromCodePoint": 0,
      "marks": {
       "bold": true
      },
      "toCodePoint": 24,
      "type": "marks"
     }
    ]
   },
   "source": [
    "# ML analysis \n",
    "For our machine learning analysis, we are attempting to predict whether an arrest will be made based on location data. These features include the Beat, District, Ward, and Community Area. We used a decision tree classifier to accomplish this since this is a classification task whether an arrest was made (True/False). After filtering out NaN values for the features, we fit our model using a training split of 80/20. After training our model and using it on our test data we get an accuracy of around 74%.\n",
    "\n",
    "With an accuracy of 74%, that means roughly 74 of 100 crimes would be classified correctly. That means our classifier is able to predict pretty well whether an arrest will be made based on location codes."
   ]
  },
  {
   "cell_type": "code",
   "execution_count": null,
   "metadata": {},
   "outputs": [],
   "source": [
    "main.PredictArrests(crimes)"
   ]
  },
  {
   "cell_type": "markdown",
   "metadata": {
    "cell_id": "df6dd19eb12f41f2a28ed702e5ca04ba",
    "deepnote_cell_type": "text-cell-p",
    "formattedRanges": [
     {
      "fromCodePoint": 0,
      "marks": {
       "bold": true
      },
      "toCodePoint": 11,
      "type": "marks"
     }
    ]
   },
   "source": [
    " # Reflection: a discussion of the following:\n"
   ]
  },
  {
   "cell_type": "markdown",
   "metadata": {
    "cell_id": "9f9e2d24-76cb-407f-bf87-f161c49799e7",
    "deepnote_cell_type": "text-cell-p",
    "formattedRanges": []
   },
   "source": [
    "What is the hardest part of the project that you’ve encountered so far?\n",
    "\n",
    "Machine learning"
   ]
  },
  {
   "cell_type": "markdown",
   "metadata": {
    "cell_id": "40d149ea-a508-4838-97aa-13adf193bfef",
    "deepnote_cell_type": "text-cell-p",
    "formattedRanges": []
   },
   "source": [
    "\n",
    "What are your initial insights? \n",
    "\n",
    "\n",
    "The data shows that the crimes are decreasing every year with one or two execptions."
   ]
  },
  {
   "cell_type": "markdown",
   "metadata": {
    "cell_id": "abd3f8c7-3365-4a12-8398-ace403db7659",
    "deepnote_cell_type": "text-cell-p",
    "formattedRanges": []
   },
   "source": [
    "Are there any concrete results you can show at this point? If not, why not?\n",
    "\n",
    "We do not have very concrete results yet because our Machine Learning program is 74% accurate and the trends are changing over the years\n"
   ]
  },
  {
   "cell_type": "markdown",
   "metadata": {},
   "source": [
    "Going forward, what are the current biggest problems you’re facing?\n",
    "\n",
    "The current biggest problems we will be facing is designing another Machine Learning program which would predict more accurately."
   ]
  },
  {
   "cell_type": "markdown",
   "metadata": {
    "cell_id": "cf3ddbd3-cb0d-4683-835f-e0f6a99d4d8a",
    "deepnote_cell_type": "text-cell-p",
    "formattedRanges": []
   },
   "source": [
    "Do you think you are on track with your project? If not, what parts do you need to dedicate more time to?\n",
    "\n",
    "Yes I think we are on track with the project\n"
   ]
  },
  {
   "cell_type": "markdown",
   "metadata": {
    "cell_id": "238d7a9a-d3ac-4642-a359-fc12d0fd4111",
    "deepnote_cell_type": "text-cell-p",
    "formattedRanges": []
   },
   "source": [
    "Given your initial exploration of the data, is it worth proceeding with your project,why? If not, how are you going to change your project and why do you think it’s better than your current results?\n",
    "\n",
    "We think that we can proceed with the project because it is giving us very helpful insigts on the data which can be used by the police and the goverment to find better solutions and places where the cops can focus more on."
   ]
  },
  {
   "cell_type": "markdown",
   "metadata": {
    "cell_id": "5250dd7f-62e4-447d-a601-0de04015a5e5",
    "deepnote_cell_type": "text-cell-p",
    "formattedRanges": []
   },
   "source": [
    "What you plan to accomplish in the next month and how you plan to evaluate whether your project achieved the goals you set for it.\n",
    "\n",
    "We would consider that our project achived what we wanted if we can have a better prediecting Machgine learning program."
   ]
  },
  {
   "cell_type": "markdown",
   "metadata": {
    "cell_id": "30b23ded48e5458aa3835da6c0586719",
    "deepnote_cell_type": "text-cell-p",
    "formattedRanges": []
   },
   "source": [
    "# Next steps:\n",
    "\n",
    "The next steps we plan from here is to improve our machine learning model and try to predicts things with better precision  "
   ]
  }
 ],
 "metadata": {
  "deepnote": {},
  "deepnote_execution_queue": [],
  "deepnote_notebook_id": "1768c594c7aa407c8d902b5f0fc79878",
  "kernelspec": {
   "display_name": "Python 3 (ipykernel)",
   "language": "python",
   "name": "python3"
  },
  "language_info": {
   "codemirror_mode": {
    "name": "ipython",
    "version": 3
   },
   "file_extension": ".py",
   "mimetype": "text/x-python",
   "name": "python",
   "nbconvert_exporter": "python",
   "pygments_lexer": "ipython3",
   "version": "3.9.7"
  }
 },
 "nbformat": 4,
 "nbformat_minor": 1
}
